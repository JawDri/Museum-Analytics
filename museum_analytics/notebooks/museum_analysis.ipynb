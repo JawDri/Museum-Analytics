{
 "cells": [
  {
   "cell_type": "markdown",
   "metadata": {},
   "source": [
    "# Museum Analytics: Visitor-Population Correlation Analysis\n",
    "\n",
    "This notebook demonstrates the analysis of museum visitor data and its correlation with city population using linear regression."
   ]
  },
  {
   "cell_type": "code",
   "execution_count": 8,
   "metadata": {},
   "outputs": [
    {
     "name": "stdout",
     "output_type": "stream",
     "text": [
      "Libraries imported successfully!\n"
     ]
    }
   ],
   "source": [
    "# Import required libraries\n",
    "import sys\n",
    "import os\n",
    "import pandas as pd\n",
    "import numpy as np\n",
    "import matplotlib.pyplot as plt\n",
    "import seaborn as sns\n",
    "from sklearn.linear_model import LinearRegression\n",
    "from sklearn.metrics import r2_score, mean_squared_error, mean_absolute_error\n",
    "import warnings\n",
    "warnings.filterwarnings('ignore')\n",
    "\n",
    "# Add the src directory to the path\n",
    "sys.path.append('/workspace/museum_analytics/src')\n",
    "\n",
    "# Import our custom modules\n",
    "from data_extraction.wikipedia_scraper import WikipediaMuseumScraper\n",
    "from data_extraction.population_data import PopulationDataExtractor\n",
    "from data_processing.harmonizer import DataHarmonizer\n",
    "from models.regression_model import MuseumRegressionModel\n",
    "from database.db_manager import DatabaseManager\n",
    "\n",
    "print(\"Libraries imported successfully!\")"
   ]
  },
  {
   "cell_type": "code",
   "execution_count": 9,
   "metadata": {},
   "outputs": [
    {
     "name": "stdout",
     "output_type": "stream",
     "text": [
      "Extracting museum data from Wikipedia...\n"
     ]
    },
    {
     "name": "stderr",
     "output_type": "stream",
     "text": [
      "INFO:data_extraction.wikipedia_scraper:Extracted (table): Louvre in Paris - 8,700,000 visitors\n",
      "INFO:data_extraction.wikipedia_scraper:Extracted (table): National Museum of China in Beijing - 6,956,800 visitors\n",
      "INFO:data_extraction.wikipedia_scraper:Extracted (table): Vatican Museums in Vatican City,Rome - 6,825,436 visitors\n",
      "INFO:data_extraction.wikipedia_scraper:Extracted (table): British Museum in London - 6,479,952 visitors\n",
      "INFO:data_extraction.wikipedia_scraper:Extracted (table): Natural History Museum, South Kensington in London - 6,301,972 visitors\n",
      "INFO:data_extraction.wikipedia_scraper:Extracted (table): Metropolitan Museum of Art in New York City - 5,727,258 visitors\n",
      "INFO:data_extraction.wikipedia_scraper:Extracted (table): American Museum of Natural History in New York City - 5,400,000 visitors\n",
      "INFO:data_extraction.wikipedia_scraper:Extracted (table): China Science and Technology Museum in Beijing - 5,315,000 visitors\n",
      "INFO:data_extraction.wikipedia_scraper:Extracted (table): Nanjing Museum in Nanjing - 5,006,800 visitors\n",
      "INFO:data_extraction.wikipedia_scraper:Extracted (table): Suzhou Museum in Suzhou - 4,852,000 visitors\n",
      "INFO:data_extraction.wikipedia_scraper:Extracted (table): Shanghai Museum East in Shanghai - 4,230,000 visitors\n",
      "INFO:data_extraction.wikipedia_scraper:Extracted (table): Tate Modern in London - 4,603,025 visitors\n",
      "INFO:data_extraction.wikipedia_scraper:Extracted (table): National Museum of Natural History in Washington, D.C. - 4,400,000 visitors\n",
      "INFO:data_extraction.wikipedia_scraper:Extracted (table): Hubei Provincial Museum in Wuhan - 4,356,943 visitors\n",
      "INFO:data_extraction.wikipedia_scraper:Extracted (table): National Museum of Korea in Seoul - 3,780,000 visitors\n",
      "INFO:data_extraction.wikipedia_scraper:Extracted (table): National Gallery of Art in Washington, D.C. - 3,936,543 visitors\n",
      "INFO:data_extraction.wikipedia_scraper:Extracted (table): Musée National d'Histoire Naturelle in Paris - 3,800,000 visitors\n",
      "INFO:data_extraction.wikipedia_scraper:Extracted (table): Musée d'Orsay in Paris - 3,751,000 visitors\n",
      "INFO:data_extraction.wikipedia_scraper:Extracted (table): National Museum of Anthropology in Mexico City - 3,700,000 visitors\n",
      "INFO:data_extraction.wikipedia_scraper:Extracted (table): State Hermitage Museum in Saint Petersburg - 3,563,590 visitors\n",
      "INFO:data_extraction.wikipedia_scraper:Extracted (table): Victoria and Albert Museum in London, South Kensington - 3,525,700 visitors\n",
      "INFO:data_extraction.wikipedia_scraper:Extracted (table): Prado Museum in Madrid - 3,457,057 visitors\n",
      "INFO:data_extraction.wikipedia_scraper:Extracted (table): Mevlana Museum in Konya - 3,352,505 visitors\n",
      "INFO:data_extraction.wikipedia_scraper:Extracted (table): Centre Pompidou in Paris - 3,204,369 visitors\n",
      "INFO:data_extraction.wikipedia_scraper:Extracted (table): National Gallery in London - 3,203,451 visitors\n",
      "INFO:data_extraction.wikipedia_scraper:Extracted (table): Chengdu Museum in Chengdu - 3,134,129 visitors\n",
      "INFO:data_extraction.wikipedia_scraper:Extracted (table): Palace and Garden of Sa'dabad in Tehran - 3,121,000 visitors\n",
      "INFO:data_extraction.wikipedia_scraper:Extracted (table): National Air and Space Museum in Washington, D.C. - 3,100,000 visitors\n",
      "INFO:data_extraction.wikipedia_scraper:Extracted (table): Galleria degli Uffizi in Florence - 2,908,828 visitors\n",
      "INFO:data_extraction.wikipedia_scraper:Extracted (table): State Russian Museum in Saint Petersburg - 2,900,000 visitors\n",
      "INFO:data_extraction.wikipedia_scraper:Extracted (table): National Museum of Natural Science in Taichung - 2,854,455 visitors\n",
      "INFO:data_extraction.wikipedia_scraper:Extracted (table): Museum of Modern Art in New York City - 2,839,509 visitors\n",
      "INFO:data_extraction.wikipedia_scraper:Extracted (table): London Science Museum in London - 2,827,242 visitors\n",
      "INFO:data_extraction.wikipedia_scraper:Extracted (table): M+ in Hong Kong - 2,610,000 visitors\n",
      "INFO:data_extraction.wikipedia_scraper:Extracted (table): Changzhou Museum in Changzhou - 2,761,514 visitors\n",
      "INFO:data_extraction.wikipedia_scraper:Extracted (table): National Museum of Marine Science and Technology in Keelung - 2,726,000 visitors\n",
      "INFO:data_extraction.wikipedia_scraper:Extracted (table): Zhejiang Museum of Natural History in Hangzhou - 2,715,813 visitors\n",
      "INFO:data_extraction.wikipedia_scraper:Extracted (table): Rijksmuseum in Amsterdam - 2,702,824 visitors\n",
      "INFO:data_extraction.wikipedia_scraper:Extracted (table): National Museum of Nature and Science in Tokyo - 2,694,021 visitors\n",
      "INFO:data_extraction.wikipedia_scraper:Extracted (table): Shenzhen Museum in Shenzhen - 2,601,625 visitors\n",
      "INFO:data_extraction.wikipedia_scraper:Extracted (table): Guangdong Museum in Guangzhou - 2,461,600 visitors\n",
      "INFO:data_extraction.wikipedia_scraper:Extracted (table): Museo Nacional de Historia in Mexico City - 2,456,825 visitors\n",
      "INFO:data_extraction.wikipedia_scraper:Extracted (table): Shanxi Museum in Taiyuan - 2,360,988 visitors\n",
      "INFO:data_extraction.wikipedia_scraper:Extracted (table): National Museum of Scotland in Edinburgh - 2,314,974 visitors\n",
      "INFO:data_extraction.wikipedia_scraper:Extracted (table): Three Gorges Museum in Chongqing - 2,279,105 visitors\n",
      "INFO:data_extraction.wikipedia_scraper:Extracted (table): Royal Museums Greenwich in London - 2,255,753 visitors\n",
      "INFO:data_extraction.wikipedia_scraper:Extracted (table): Golestan Palace in Tehran - 2,106,603 visitors\n",
      "INFO:data_extraction.wikipedia_scraper:Extracted (table): Smithsonian Museum of American History in Washington, D.C. - 2,100,000 visitors\n",
      "INFO:data_extraction.wikipedia_scraper:Extracted (table): State Tretyakov Gallery in Moscow - 2,100,000 visitors\n",
      "INFO:data_extraction.wikipedia_scraper:Extracted (table): Topography of Terror in Berlin - 2,100,000 visitors\n",
      "INFO:data_extraction.wikipedia_scraper:Extracted (table): Art Gallery of NSW in Sydney - 2,032,098 visitors\n",
      "INFO:data_extraction.wikipedia_scraper:Extracted (table): Galleria dell'Accademia in Florence - 2,013,914 visitors\n",
      "INFO:data_extraction.wikipedia_scraper:Extracted (table): National Museum in Warsaw in Warsaw - 2,000,000 visitors\n",
      "INFO:data_extraction.wikipedia_scraper:Saved 53 museums to /workspace/museum_data.csv\n"
     ]
    },
    {
     "name": "stdout",
     "output_type": "stream",
     "text": [
      "Successfully extracted 53 museums\n",
      "\n",
      "Sample museum data:\n",
      "                                museum_name               city  \\\n",
      "0                                    Louvre              Paris   \n",
      "1                  National Museum of China            Beijing   \n",
      "2                           Vatican Museums  Vatican City,Rome   \n",
      "3                            British Museum             London   \n",
      "4  Natural History Museum, South Kensington             London   \n",
      "\n",
      "   annual_visitors         country    year  \n",
      "0          8700000          France  2024.0  \n",
      "1          6956800           China  2024.0  \n",
      "2          6825436    Vatican City  2024.0  \n",
      "3          6479952  United Kingdom  2024.0  \n",
      "4          6301972  United Kingdom  2024.0  \n"
     ]
    }
   ],
   "source": [
    "# Extract museum data from Wikipedia\n",
    "print(\"Extracting museum data from Wikipedia...\")\n",
    "museum_scraper = WikipediaMuseumScraper()\n",
    "museums = museum_scraper.extract_museum_data()\n",
    "\n",
    "if museums:\n",
    "    museum_df = museum_scraper.save_to_csv(museums, \"/workspace/museum_data.csv\")\n",
    "    print(f\"Successfully extracted {len(museums)} museums\")\n",
    "    print(\"\\nSample museum data:\")\n",
    "    print(museum_df.head())\n",
    "else:\n",
    "    print(\"Failed to extract museum data\")"
   ]
  },
  {
   "cell_type": "code",
   "execution_count": 10,
   "metadata": {},
   "outputs": [
    {
     "name": "stderr",
     "output_type": "stream",
     "text": [
      "WARNING:data_extraction.population_data:REST Countries API error: 400 Client Error: Bad Request for url: https://restcountries.com/v3.1/all\n",
      "INFO:data_extraction.population_data:Added major city data: Tokyo - 14,000,000\n",
      "INFO:data_extraction.population_data:Added major city data: Beijing - 21,500,000\n",
      "INFO:data_extraction.population_data:Added major city data: Mexico City - 9,200,000\n",
      "INFO:data_extraction.population_data:Added major city data: Amsterdam - 1,200,000\n",
      "INFO:data_extraction.population_data:Added major city data: Paris - 11,000,000\n",
      "INFO:data_extraction.population_data:Added major city data: Madrid - 6,700,000\n",
      "INFO:data_extraction.population_data:Added major city data: London - 9,000,000\n",
      "INFO:data_extraction.population_data:Added major city data: Warsaw - 1,800,000\n",
      "INFO:data_extraction.population_data:Added major city data: Sydney - 5,300,000\n",
      "INFO:data_extraction.population_data:Added major city data: Berlin - 3,700,000\n",
      "INFO:data_extraction.population_data:Added major city data: Moscow - 12,500,000\n",
      "INFO:data_extraction.population_data:Saved 11 cities to /workspace/city_population.csv\n"
     ]
    },
    {
     "name": "stdout",
     "output_type": "stream",
     "text": [
      "Extracting city population data...\n",
      "Successfully extracted population data for 11 cities\n",
      "\n",
      "Sample population data:\n",
      "          city  population\n",
      "0        Tokyo    14000000\n",
      "1      Beijing    21500000\n",
      "2  Mexico City     9200000\n",
      "3    Amsterdam     1200000\n",
      "4        Paris    11000000\n"
     ]
    }
   ],
   "source": [
    "# Extract population data\n",
    "print(\"Extracting city population data...\")\n",
    "population_extractor = PopulationDataExtractor()\n",
    "\n",
    "if museums:\n",
    "    unique_cities = list(set([museum['city'] for museum in museums]))\n",
    "    population_data = population_extractor.get_city_population_data(unique_cities)\n",
    "    \n",
    "    if population_data:\n",
    "        population_df = population_extractor.save_to_csv(population_data, \"/workspace/city_population.csv\")\n",
    "        print(f\"Successfully extracted population data for {len(population_data)} cities\")\n",
    "        print(\"\\nSample population data:\")\n",
    "        print(population_df.head())\n",
    "    else:\n",
    "        print(\"Failed to extract population data\")\n",
    "else:\n",
    "    print(\"No museum data available for population extraction\")"
   ]
  },
  {
   "cell_type": "code",
   "execution_count": 11,
   "metadata": {},
   "outputs": [
    {
     "name": "stderr",
     "output_type": "stream",
     "text": [
      "INFO:data_processing.harmonizer:Starting data harmonization process\n",
      "INFO:data_processing.harmonizer:Loaded 53 museum records from /workspace/museum_data.csv\n",
      "INFO:data_processing.harmonizer:Loaded 11 city records from /workspace/city_population.csv\n"
     ]
    },
    {
     "name": "stdout",
     "output_type": "stream",
     "text": [
      "Harmonizing museum and population data...\n"
     ]
    },
    {
     "name": "stderr",
     "output_type": "stream",
     "text": [
      "WARNING:data_processing.harmonizer:Missing population data for 32 cities\n",
      "INFO:data_processing.harmonizer:Successfully matched 53 museum records\n",
      "INFO:data_processing.harmonizer:Connected to database: /workspace/museum_analytics.db\n",
      "INFO:data_processing.harmonizer:Database tables created successfully\n",
      "INFO:data_processing.harmonizer:Saved 53 records to museums table\n",
      "INFO:data_processing.harmonizer:Saved 11 records to cities table\n",
      "INFO:data_processing.harmonizer:Saved 53 records to harmonized_data table\n",
      "INFO:data_processing.harmonizer:Saved harmonized data to harmonized_museum_data.csv\n",
      "INFO:data_processing.harmonizer:Database connection closed\n"
     ]
    },
    {
     "name": "stdout",
     "output_type": "stream",
     "text": [
      "Successfully harmonized 53 museum records\n",
      "\n",
      "Sample harmonized data:\n",
      "                                museum_name        city_museum  \\\n",
      "0                                    Louvre              Paris   \n",
      "1                  National Museum of China            Beijing   \n",
      "2                           Vatican Museums  Vatican City,Rome   \n",
      "3                            British Museum             London   \n",
      "4  Natural History Museum, South Kensington             London   \n",
      "\n",
      "   annual_visitors         country    year city_pop  population  \\\n",
      "0          8700000          France  2024.0    Paris  11000000.0   \n",
      "1          6956800           China  2024.0  Beijing  21500000.0   \n",
      "2          6825436    Vatican City  2024.0      NaN         NaN   \n",
      "3          6479952  United Kingdom  2024.0   London   9000000.0   \n",
      "4          6301972  United Kingdom  2024.0   London   9000000.0   \n",
      "\n",
      "   visitor_population_ratio  \n",
      "0                  0.790909  \n",
      "1                  0.323572  \n",
      "2                       NaN  \n",
      "3                  0.719995  \n",
      "4                  0.700219  \n"
     ]
    }
   ],
   "source": [
    "# Harmonize the data\n",
    "print(\"Harmonizing museum and population data...\")\n",
    "harmonizer = DataHarmonizer(\"/workspace/museum_analytics.db\")\n",
    "harmonized_df = harmonizer.harmonize_data(\"/workspace/museum_data.csv\", \"/workspace/city_population.csv\")\n",
    "\n",
    "if not harmonized_df.empty:\n",
    "    print(f\"Successfully harmonized {len(harmonized_df)} museum records\")\n",
    "    print(\"\\nSample harmonized data:\")\n",
    "    print(harmonized_df.head())\n",
    "else:\n",
    "    print(\"Failed to harmonize data\")"
   ]
  },
  {
   "cell_type": "code",
   "execution_count": 12,
   "metadata": {},
   "outputs": [
    {
     "name": "stderr",
     "output_type": "stream",
     "text": [
      "INFO:models.regression_model:Starting model training\n",
      "INFO:models.regression_model:Loaded 53 records from /workspace/data/harmonized_museum_data.csv\n",
      "INFO:models.regression_model:Renamed 'population' -> 'city_population'\n",
      "INFO:models.regression_model:Removed 32 rows with missing data\n",
      "INFO:models.regression_model:Outlier removal disabled; using 21 records\n",
      "INFO:models.regression_model:Applied log1p transform to features and target\n",
      "INFO:models.regression_model:Model training completed. Test R²: 0.0894, Correlation: 0.5274\n",
      "INFO:models.regression_model:Model saved to /workspace/data/museum_regression_model.pkl\n"
     ]
    },
    {
     "name": "stdout",
     "output_type": "stream",
     "text": [
      "Training linear regression model...\n",
      "\n",
      "Model Training Results:\n",
      "Training R²: 0.2782\n",
      "Test R²: 0.0894\n",
      "Correlation: 0.5274\n",
      "Training MSE: 1,538,570,214,209.53\n",
      "Test MSE: 7,097,708,750,796.04\n",
      "\n",
      "log1p(visitors) = 0.195215 * z_scaled + 15.010216\n",
      "Approx. original-space: visitors ≈ 0.0017 * population + 31863.67\n"
     ]
    }
   ],
   "source": [
    "# Train the regression model\n",
    "if not harmonized_df.empty:\n",
    "    print(\"Training linear regression model...\")\n",
    "    model = MuseumRegressionModel(\"/workspace/data/museum_regression_model.pkl\")\n",
    "    \n",
    "    # Train the model\n",
    "    metrics = model.train(\"/workspace/data/harmonized_museum_data.csv\")\n",
    "    \n",
    "    if 'error' not in metrics:\n",
    "        print(\"\\nModel Training Results:\")\n",
    "        print(f\"Training R²: {metrics['train_r2']:.4f}\")\n",
    "        print(f\"Test R²: {metrics['test_r2']:.4f}\")\n",
    "        print(f\"Correlation: {metrics['correlation']:.4f}\")\n",
    "        print(f\"Training MSE: {metrics['train_mse']:,.2f}\")\n",
    "        print(f\"Test MSE: {metrics['test_mse']:,.2f}\")\n",
    "        \n",
    "        # Get model summary\n",
    "        summary = model.get_model_summary()\n",
    "        if 'equation' in summary:\n",
    "            print(f\"\\nModel Equation: {summary['equation']}\")\n",
    "        elif 'approx_equation_original_space' in summary:\n",
    "            print(f\"\\n{summary['equation_log_space']}\")\n",
    "            print(f\"Approx. original-space: {summary['approx_equation_original_space']}\")\n",
    "        else:\n",
    "            print(\"\\nNo equation available. Summary keys:\", list(summary.keys()))\n",
    "\n",
    "    else:\n",
    "        print(f\"Error training model: {metrics['error']}\")\n",
    "else:\n",
    "    print(\"No data available for model training\")"
   ]
  },
  {
   "cell_type": "code",
   "execution_count": 13,
   "metadata": {},
   "outputs": [
    {
     "name": "stdout",
     "output_type": "stream",
     "text": [
      "Creating visualizations...\n"
     ]
    },
    {
     "data": {
      "image/png": "[encoded data removed]",
      "text/plain": [
       "<Figure size 1200x800 with 1 Axes>"
      ]
     },
     "metadata": {},
     "output_type": "display_data"
    },
    {
     "name": "stderr",
     "output_type": "stream",
     "text": [
      "INFO:models.regression_model:Loaded 53 records from /workspace/data/harmonized_museum_data.csv\n",
      "INFO:models.regression_model:Renamed 'population' -> 'city_population'\n",
      "INFO:models.regression_model:Removed 32 rows with missing data\n",
      "INFO:models.regression_model:Outlier removal disabled; using 21 records\n",
      "INFO:models.regression_model:Applied log1p transform to features and target\n",
      "INFO:models.regression_model:Visualizations saved to /workspace/plots/\n"
     ]
    },
    {
     "name": "stdout",
     "output_type": "stream",
     "text": [
      "Visualizations saved to '/workspace/plots/' directory\n"
     ]
    }
   ],
   "source": [
    "from pathlib import Path\n",
    "import numpy as np\n",
    "import pandas as pd\n",
    "import matplotlib.pyplot as plt\n",
    "\n",
    "# Paths inside the container\n",
    "HARMONIZED = Path(\"/workspace/data/harmonized_museum_data.csv\")\n",
    "PLOTS_DIR  = Path(\"/workspace/plots\")\n",
    "\n",
    "if not harmonized_df.empty and 'error' not in metrics:\n",
    "    print(\"Creating visualizations...\")\n",
    "\n",
    "    # Load data\n",
    "    df = pd.read_csv(HARMONIZED)\n",
    "\n",
    "    # --- Resolve population column alias ---\n",
    "    pop_col = None\n",
    "    for cand in ['city_population', 'population', 'city_pop']:\n",
    "        if cand in df.columns:\n",
    "            pop_col = cand\n",
    "            break\n",
    "    if pop_col is None:\n",
    "        raise KeyError(f\"No population column found. Columns: {list(df.columns)}\")\n",
    "\n",
    "    # Clean data\n",
    "    df_clean = df.dropna(subset=[pop_col, 'annual_visitors']).copy()\n",
    "\n",
    "    # Scatter\n",
    "    plt.figure(figsize=(12, 8))\n",
    "    plt.scatter(df_clean[pop_col], df_clean['annual_visitors'],\n",
    "                alpha=0.6, label='Actual')\n",
    "\n",
    "    # Regression line (model.predict is scalar → vectorize)\n",
    "    x_min = df_clean[pop_col].min()\n",
    "    x_max = df_clean[pop_col].max()\n",
    "    X_line = np.linspace(x_min, x_max, 100)\n",
    "    y_line = np.array([model.predict(float(x)) for x in X_line])\n",
    "\n",
    "    plt.plot(X_line, y_line, linewidth=2, label='Regression Fit')\n",
    "    plt.xlabel('City Population')\n",
    "    plt.ylabel('Annual Visitors')\n",
    "    plt.title('Museum Visitors vs City Population')\n",
    "    plt.legend()\n",
    "    plt.grid(True, alpha=0.3)\n",
    "    plt.tight_layout()\n",
    "    plt.show()\n",
    "\n",
    "    # Also create the built-in set of plots (handles log transforms)\n",
    "    model.create_visualizations(str(HARMONIZED), str(PLOTS_DIR))\n",
    "    print(f\"Visualizations saved to '{PLOTS_DIR}/' directory\")\n",
    "else:\n",
    "    print(\"No model available for visualization\")\n"
   ]
  },
  {
   "cell_type": "code",
   "execution_count": 14,
   "metadata": {},
   "outputs": [
    {
     "name": "stdout",
     "output_type": "stream",
     "text": [
      "Model Predictions for Different City Sizes:\n",
      "==================================================\n",
      "Small City (100,000 people): 1,022,658 predicted visitors\n",
      "Medium City (500,000 people): 1,588,244 predicted visitors\n",
      "Large City (1,000,000 people): 1,919,806 predicted visitors\n",
      "Metropolitan Area (5,000,000 people): 2,981,570 predicted visitors\n",
      "Mega City (10,000,000 people): 3,604,003 predicted visitors\n",
      "\n",
      "==================================================\n",
      "Note: These are predictions based on city population only.\n",
      "Actual museum attendance depends on many other factors.\n"
     ]
    }
   ],
   "source": [
    "# Test model predictions\n",
    "if not harmonized_df.empty and 'error' not in metrics:\n",
    "    print(\"Model Predictions for Different City Sizes:\")\n",
    "    print(\"=\" * 50)\n",
    "    \n",
    "    test_cities = [\n",
    "        (100_000, \"Small City\"),\n",
    "        (500_000, \"Medium City\"),\n",
    "        (1_000_000, \"Large City\"),\n",
    "        (5_000_000, \"Metropolitan Area\"),\n",
    "        (10_000_000, \"Mega City\")\n",
    "    ]\n",
    "    \n",
    "    for population, city_type in test_cities:\n",
    "        prediction = model.predict(population)\n",
    "        print(f\"{city_type} ({population:,} people): {prediction:,.0f} predicted visitors\")\n",
    "    \n",
    "    print(\"\\n\" + \"=\" * 50)\n",
    "    print(\"Note: These are predictions based on city population only.\")\n",
    "    print(\"Actual museum attendance depends on many other factors.\")\n",
    "else:\n",
    "    print(\"No trained model available for predictions\")"
   ]
  },
  {
   "cell_type": "code",
   "execution_count": null,
   "metadata": {},
   "outputs": [],
   "source": []
  }
 ],
 "metadata": {
  "kernelspec": {
   "display_name": "Python 3 (ipykernel)",
   "language": "python",
   "name": "python3"
  },
  "language_info": {
   "codemirror_mode": {
    "name": "ipython",
    "version": 3
   },
   "file_extension": ".py",
   "mimetype": "text/x-python",
   "name": "python",
   "nbconvert_exporter": "python",
   "pygments_lexer": "ipython3",
   "version": "3.9.23"
  }
 },
 "nbformat": 4,
 "nbformat_minor": 4
}
